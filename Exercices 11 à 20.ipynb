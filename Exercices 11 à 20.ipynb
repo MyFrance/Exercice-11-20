{
 "cells": [
  {
   "cell_type": "markdown",
   "id": "04c241f5",
   "metadata": {},
   "source": [
    "# Exercice 11\n",
    "Nous allons écrire un programme qui affiche la résistance équivalente à trois résistances R1, R2, R3 :\n",
    "- si les résistances sont branchées en série.\n",
    "Rserie = R1 + R2 + R3\n",
    "- si les résistances sont branchées en parallèle.\n",
    "R_parallelle = R1*R2*R3/((R1*R2) + (R1*R3) + (R2*R3))\n"
   ]
  },
  {
   "cell_type": "code",
   "execution_count": 2,
   "id": "a2bd8c4c",
   "metadata": {
    "ExecuteTime": {
     "end_time": "2022-05-12T14:41:51.866533Z",
     "start_time": "2022-05-12T14:41:45.119661Z"
    }
   },
   "outputs": [
    {
     "name": "stdout",
     "output_type": "stream",
     "text": [
      "R1 = 15\n",
      "R2 = 1.2\n",
      "R3 = 1.8\n",
      "Résistance en série est égale à 18.00\n",
      "Résistance en parallèle est égale à 0.69\n"
     ]
    }
   ],
   "source": [
    "R1 = float(input(\"R1 = \"))\n",
    "R2 = float(input(\"R2 = \"))\n",
    "R3 = float(input(\"R3 = \"))\n",
    "\n",
    "R_serie = R1 + R2 + R3 \n",
    "R_parallele = R1 * R2 * R3/((R1 * R2) + (R1 * R3) + (R2 * R3))\n",
    "\n",
    "print(\"Résistance en série est égale à\", format(R_serie, \".2f\") \"ohm\")\n",
    "print(\"Résistance en parallèle est égale à\", format(R_parallele, \".2f\")\"ohm\")"
   ]
  },
  {
   "cell_type": "markdown",
   "id": "6dc4171c",
   "metadata": {},
   "source": [
    "# Exercices 12\n",
    "Nous allons écrire un programme qui retourne si deux nombres entiers donnés sont de même signe ou non."
   ]
  },
  {
   "cell_type": "code",
   "execution_count": 8,
   "id": "30e67657",
   "metadata": {
    "ExecuteTime": {
     "end_time": "2022-05-12T14:54:04.618557Z",
     "start_time": "2022-05-12T14:53:56.746419Z"
    }
   },
   "outputs": [
    {
     "name": "stdout",
     "output_type": "stream",
     "text": [
      "A = -12\n",
      "B = 15\n",
      " A et B ont deux signes différents\n"
     ]
    }
   ],
   "source": [
    "A = float(input(\"A = \"))\n",
    "B = float(input(\"B = \"))\n",
    "\n",
    "if A * B > 0:\n",
    "    print(\"A et B ont le même signe\")\n",
    "else: \n",
    "    print(\" A et B ont deux signes différents\")"
   ]
  },
  {
   "cell_type": "markdown",
   "id": "f0249474",
   "metadata": {},
   "source": [
    "# Exercice 13\n",
    "Nous allons écrire un programme qui échange les contenus de deux données numérique si elles sont de même signe, sinon il met la somme des deux dans la première donnée et leur produit dans la seconde."
   ]
  },
  {
   "cell_type": "code",
   "execution_count": 7,
   "id": "0ccbada6",
   "metadata": {
    "ExecuteTime": {
     "end_time": "2022-05-13T08:36:13.072809Z",
     "start_time": "2022-05-13T08:36:05.416234Z"
    }
   },
   "outputs": [
    {
     "name": "stdout",
     "output_type": "stream",
     "text": [
      "A = -9\n",
      "B = -4\n",
      "A est de même signe que B\n"
     ]
    }
   ],
   "source": [
    "A = float(input(\"A = \"))\n",
    "B = float(input(\"B = \"))\n",
    "\n",
    "if A*B>0: \n",
    "    X = A\n",
    "    B = X\n",
    "    print(\"A est de même signe que B\")\n",
    "else: \n",
    "    S = A + B \n",
    "    A = S\n",
    "    \n",
    "    P = A *B\n",
    "    B = P\n",
    "    print(\"A et B sont de signe différents\", \"Somme = \", S ,\"et le produit = \", P)"
   ]
  },
  {
   "cell_type": "markdown",
   "id": "b6dd8e56",
   "metadata": {},
   "source": [
    "# Exercice 14\n",
    "Nous allons écrire le programme suivant : Un magasin facture 0,30 € les dix premières photocopies, 0,25 € les vingt suivantes et 0,20 € au-delà. Ecrire un programme qui demande à l’utilisateur le nombre de photocopies effectuées et qui affiche la facture correspondante.\n"
   ]
  },
  {
   "cell_type": "code",
   "execution_count": 45,
   "id": "d7da8e1d",
   "metadata": {
    "ExecuteTime": {
     "end_time": "2022-05-13T09:35:13.790677Z",
     "start_time": "2022-05-13T09:35:12.143000Z"
    }
   },
   "outputs": [
    {
     "name": "stdout",
     "output_type": "stream",
     "text": [
      "Nombre de copie = 32\n",
      "Vous avez demandez 32 copies vous nous devez 8.40 €\n"
     ]
    }
   ],
   "source": [
    "N = int(input(\"Nombre de copie = \"))\n",
    "\n",
    "if 1<= N<= 10:\n",
    "    prix = N * 0.3\n",
    "    \n",
    "elif 11 <= N <= 30:\n",
    "    prix = 10 * 0.3 + (N-10) * 0.25\n",
    "\n",
    "else:\n",
    "    prix = 10 *0.3 + 20 * 0.25 + (N-30) *0.2\n",
    "print(\"Vous avez demandez\", N, \"copies\", \"vous nous devez\" , format(prix, \".2f\"),\"€\")\n",
    "    "
   ]
  },
  {
   "cell_type": "markdown",
   "id": "92290f06",
   "metadata": {},
   "source": [
    "# Exercice 15\n",
    "Nous allons écrire un programme qui demande l’âge d’un enfant à l’utilisateur. Ensuite, il l’informe de sa catégorie : \"Poussin\" de 6 à 7 ans, \"Pupille\" de 8 à 9 ans, \"Minime\" de 10 à 11 ans, \"Cadet\" entre 12 et 16 ans."
   ]
  },
  {
   "cell_type": "code",
   "execution_count": 53,
   "id": "e7370c37",
   "metadata": {
    "ExecuteTime": {
     "end_time": "2022-05-13T09:48:11.123440Z",
     "start_time": "2022-05-13T09:48:09.129237Z"
    }
   },
   "outputs": [
    {
     "name": "stdout",
     "output_type": "stream",
     "text": [
      "Age = 15\n",
      "Tu fais partie de la catégorie Cadet ton âge est de : 15 ans\n"
     ]
    }
   ],
   "source": [
    "age = int(input(\"Age = \"))\n",
    "\n",
    "if 6 <= age <= 7: \n",
    "    print(\"Tu fais partie de la catégorie Poussin\", \"ton âge est de :\", age, \"ans\")\n",
    "elif 8 <= age <= 9:\n",
    "    print(\"Tu fais partie de la catégorie Pupille\", \"ton âge est de :\", age, \"ans\")\n",
    "elif 10 <= age <= 11:\n",
    "    print(\"Tu fais partie de la catégorie Minime\",\"ton âge est de :\", age, \"ans\")\n",
    "elif 12 <= age <= 16:\n",
    "    print(\"Tu fais partie de la catégorie Cadet\", \"ton âge est de :\", age, \"ans\")\n",
    "    \n",
    "else:\n",
    "    print(\"Tu n'a pas encore de catégorie\")"
   ]
  },
  {
   "cell_type": "markdown",
   "id": "bc5ec641",
   "metadata": {},
   "source": [
    "# Exercice 16\n",
    "Nous allons écrire un programme permettant de saisir trois notes (sur 20) d'un étudiant, calculant sa moyenne et affichant cette moyenne avec la mention (\"Très bien\" à partir de 16, \"Bien\" entre 14 et 16, \"Assez bien\" entre 12 et 14, \"Passable\" entre 10 et 12, \"Insuffisant\" en dessous de 10)"
   ]
  },
  {
   "cell_type": "code",
   "execution_count": 65,
   "id": "3392342c",
   "metadata": {
    "ExecuteTime": {
     "end_time": "2022-05-13T10:23:55.603801Z",
     "start_time": "2022-05-13T10:23:49.274051Z"
    }
   },
   "outputs": [
    {
     "name": "stdout",
     "output_type": "stream",
     "text": [
      "Note1 = 12\n",
      "Note2 = 8\n",
      "Note3 = 5\n",
      "Insuffisant\n"
     ]
    }
   ],
   "source": [
    "Note1 = float(input(\"Note1 = \"))\n",
    "Note2 = float(input(\"Note2 = \"))\n",
    "Note3 = float(input(\"Note3 = \"))\n",
    "\n",
    "moyenne = (Note1 +Note2 +Note3)/3\n",
    "\n",
    "if moyenne < 10:\n",
    "    print(\"Insuffisant\", \"votre moyenne est\", format(moyenne, \".2f\"), \"sur 20\")\n",
    "    \n",
    "elif 10 <= moyenne <= 12:\n",
    "    print(\"Mention: Passable\", \"votre moyenne est\", format(moyenne, \".2f\"), \"sur 20\")\n",
    "    \n",
    "elif 12<=moyenne<=14:\n",
    "    print(\"Mention: Assez bien\", \"votre moyenne est\", format(moyenne, \".2f\"), \"sur 20\")\n",
    "\n",
    "elif 14 <=moyenne < 16:\n",
    "    print(\"Mention: Bien\", \"votre moyenne est\", format(moyenne, \".2f\"), \"sur 20\")\n",
    "    \n",
    "else: \n",
    "    print(\"Mention : Très Bien\", \"votre moyenne est\", format(moyenne, \".2f\"), \"sur 20\")\n",
    "    \n",
    "    \n",
    "\n",
    "    "
   ]
  },
  {
   "cell_type": "markdown",
   "id": "f4a21210",
   "metadata": {},
   "source": [
    "# Exercice 17\n",
    "Nous allons écrire un programme qui affiche la ou les solutions d’une équation du second degré de la forme ax² + bx + c = 0. "
   ]
  },
  {
   "cell_type": "raw",
   "id": "ae47ea48",
   "metadata": {},
   "source": [
    "Définition : On appelle discriminant de l'équation  noté Δ,\n",
    "Δ = b**2 − 4*a*c\n",
    "\n",
    "on a trois solutions: \n",
    "    Propriété : Soit Δ le discriminant du trinôme ax\n",
    "\n",
    "- Si Δ < 0 : L'équation  n'a pas de solution réelle.\n",
    "- Si Δ = 0 : L'équation a une unique solution : x0 = − b/2a\n",
    "- Si Δ > 0 : L'équation a deux solutions distinctes :\n",
    "x1 = −b − racine(Δ)/2a\n",
    "et x2 = −b + racine(Δ)/2a \n",
    "\n"
   ]
  },
  {
   "cell_type": "code",
   "execution_count": 23,
   "id": "b0042fa8",
   "metadata": {
    "ExecuteTime": {
     "end_time": "2022-05-18T15:57:18.138330Z",
     "start_time": "2022-05-18T15:57:10.362707Z"
    }
   },
   "outputs": [
    {
     "name": "stdout",
     "output_type": "stream",
     "text": [
      "a = -1\n",
      "b = 5\n",
      "c = -3\n",
      "Les solutions sont X1 =  4.30 et X2 =  0.70\n"
     ]
    }
   ],
   "source": [
    "import math\n",
    "a = float(input(\"a = \"))\n",
    "b = float(input(\"b = \"))\n",
    "c = float(input(\"c = \"))\n",
    "\n",
    "delta = b**2 - 4 *a *c \n",
    "\n",
    "if delta < 0:\n",
    "    print(\"Pas de solution réelle\")\n",
    "elif delta == 0:\n",
    "    x0 = -b/(2*a)\n",
    "    print(\"La solution pour delta égale à zéro est X0 =\", format(x0, \".2f\"))\n",
    "    \n",
    "elif delta > 0 : \n",
    "    x1 = (-b - math.sqrt(delta))/(2 * a)\n",
    "    x2 = (-b + math.sqrt(delta))/ (2 * a)\n",
    "    print(\"Les solutions sont X1 = \", format(x1, \".2f\"), \"et X2 = \", format(x2, \".2f\"))"
   ]
  },
  {
   "cell_type": "markdown",
   "id": "6e1decec",
   "metadata": {},
   "source": [
    "# Exercice 18\n",
    "\n",
    "Le but de cet exercice est d'ajouter en une seule fois les éléments suivants 4,8,10,19 dans la liste données"
   ]
  },
  {
   "cell_type": "code",
   "execution_count": 32,
   "id": "561a35b2",
   "metadata": {
    "ExecuteTime": {
     "end_time": "2022-05-18T16:04:46.110475Z",
     "start_time": "2022-05-18T16:04:46.100459Z"
    }
   },
   "outputs": [
    {
     "name": "stdout",
     "output_type": "stream",
     "text": [
      "[4, -21, 2, 13, 4, 8, 10, 19]\n"
     ]
    }
   ],
   "source": [
    "donnees = [4, -21, 2, 13]\n",
    "\n",
    "nouvelle_donnees = donnees.extend([4,8,10,19])\n",
    "print(donnees)\n",
    "\n",
    "# NB: Pour ajouter plusieurs éléments à une liste on utilise la fonction extend"
   ]
  },
  {
   "cell_type": "markdown",
   "id": "e5a8cbf5",
   "metadata": {},
   "source": [
    "# Exercice 19\n",
    "Les habitants d'une ville paient les impôts suivant les règles suivantes:\n",
    "- les hommes de plus de 20ans paient les impots\n",
    "- les femmes paient si elles ont entre 18 et 35 ans "
   ]
  },
  {
   "cell_type": "code",
   "execution_count": 40,
   "id": "8b044c5c",
   "metadata": {
    "ExecuteTime": {
     "end_time": "2022-05-18T16:23:46.549230Z",
     "start_time": "2022-05-18T16:23:38.342492Z"
    }
   },
   "outputs": [
    {
     "name": "stdout",
     "output_type": "stream",
     "text": [
      "Tapez 1 pour Homme ou 2 pour Femme : 1\n",
      "age = 39\n",
      "Homme de plus de 20 ans, vous payez les impôts\n"
     ]
    }
   ],
   "source": [
    "#sexe = 1 => Homme\n",
    "# sexe  =  2 => Femme\n",
    "\n",
    "sexe = int(input(\"Tapez 1 pour Homme ou 2 pour Femme : \"))\n",
    "age = float(input(\"age = \"))\n",
    "\n",
    "if sexe == 1 and age > 20:\n",
    "    print(\"Homme de plus de 20 ans, vous payez les impôts\")\n",
    "elif sexe == 2 and 18<= age <= 35:\n",
    "    print(\"Femme entre 18 et 35 ans, vous payez les impôts\")\n",
    "else: \n",
    "    print(\"Vous ne payez pas les impôts\")"
   ]
  },
  {
   "cell_type": "markdown",
   "id": "0421d0d6",
   "metadata": {},
   "source": [
    "# Exercice 20\n",
    "Afficher les éléments commun à deux listes"
   ]
  },
  {
   "cell_type": "code",
   "execution_count": 44,
   "id": "a8530c3e",
   "metadata": {
    "ExecuteTime": {
     "end_time": "2022-05-18T16:28:57.407951Z",
     "start_time": "2022-05-18T16:28:57.403959Z"
    }
   },
   "outputs": [
    {
     "name": "stdout",
     "output_type": "stream",
     "text": [
      "5\n",
      "7\n",
      "10\n"
     ]
    }
   ],
   "source": [
    "liste_01 = [1, 5, 6, 7, 9, 10, 11]\n",
    "liste_02 = [2, 3, 5, 7, 8, 10, 12]\n",
    "\n",
    "for i in liste_01:\n",
    "    for j in liste_02:\n",
    "        if i ==j:\n",
    "            print(i)"
   ]
  },
  {
   "cell_type": "code",
   "execution_count": null,
   "id": "6ff597f5",
   "metadata": {},
   "outputs": [],
   "source": []
  },
  {
   "cell_type": "code",
   "execution_count": null,
   "id": "dd71a8ab",
   "metadata": {},
   "outputs": [],
   "source": []
  },
  {
   "cell_type": "code",
   "execution_count": null,
   "id": "e25c206a",
   "metadata": {},
   "outputs": [],
   "source": []
  },
  {
   "cell_type": "code",
   "execution_count": null,
   "id": "e767d005",
   "metadata": {},
   "outputs": [],
   "source": []
  },
  {
   "cell_type": "code",
   "execution_count": null,
   "id": "69036929",
   "metadata": {},
   "outputs": [],
   "source": []
  },
  {
   "cell_type": "code",
   "execution_count": null,
   "id": "4f1dd7f2",
   "metadata": {},
   "outputs": [],
   "source": []
  },
  {
   "cell_type": "code",
   "execution_count": null,
   "id": "946920da",
   "metadata": {},
   "outputs": [],
   "source": []
  },
  {
   "cell_type": "code",
   "execution_count": null,
   "id": "a56b8ab0",
   "metadata": {},
   "outputs": [],
   "source": []
  },
  {
   "cell_type": "code",
   "execution_count": null,
   "id": "31f33b3c",
   "metadata": {},
   "outputs": [],
   "source": []
  },
  {
   "cell_type": "code",
   "execution_count": null,
   "id": "c3dc494d",
   "metadata": {},
   "outputs": [],
   "source": []
  },
  {
   "cell_type": "code",
   "execution_count": null,
   "id": "16da910b",
   "metadata": {},
   "outputs": [],
   "source": []
  },
  {
   "cell_type": "code",
   "execution_count": null,
   "id": "2a1cae8c",
   "metadata": {},
   "outputs": [],
   "source": []
  },
  {
   "cell_type": "code",
   "execution_count": null,
   "id": "3ce2a0bb",
   "metadata": {},
   "outputs": [],
   "source": []
  },
  {
   "cell_type": "code",
   "execution_count": null,
   "id": "8a49443f",
   "metadata": {},
   "outputs": [],
   "source": []
  },
  {
   "cell_type": "code",
   "execution_count": null,
   "id": "8f9f4b54",
   "metadata": {},
   "outputs": [],
   "source": []
  },
  {
   "cell_type": "code",
   "execution_count": null,
   "id": "3f5f38d8",
   "metadata": {},
   "outputs": [],
   "source": []
  },
  {
   "cell_type": "code",
   "execution_count": null,
   "id": "50693e94",
   "metadata": {},
   "outputs": [],
   "source": []
  },
  {
   "cell_type": "code",
   "execution_count": null,
   "id": "7e182786",
   "metadata": {},
   "outputs": [],
   "source": []
  },
  {
   "cell_type": "code",
   "execution_count": null,
   "id": "b1ea60d4",
   "metadata": {},
   "outputs": [],
   "source": []
  },
  {
   "cell_type": "code",
   "execution_count": null,
   "id": "d7a1ab5c",
   "metadata": {},
   "outputs": [],
   "source": []
  },
  {
   "cell_type": "code",
   "execution_count": null,
   "id": "65fc874f",
   "metadata": {},
   "outputs": [],
   "source": []
  },
  {
   "cell_type": "code",
   "execution_count": null,
   "id": "3c734304",
   "metadata": {},
   "outputs": [],
   "source": []
  },
  {
   "cell_type": "code",
   "execution_count": null,
   "id": "26cab219",
   "metadata": {},
   "outputs": [],
   "source": []
  },
  {
   "cell_type": "code",
   "execution_count": null,
   "id": "6b26fdd1",
   "metadata": {},
   "outputs": [],
   "source": []
  },
  {
   "cell_type": "code",
   "execution_count": null,
   "id": "62908815",
   "metadata": {},
   "outputs": [],
   "source": []
  },
  {
   "cell_type": "code",
   "execution_count": null,
   "id": "1be4f4ba",
   "metadata": {},
   "outputs": [],
   "source": []
  },
  {
   "cell_type": "code",
   "execution_count": null,
   "id": "1a6273e3",
   "metadata": {},
   "outputs": [],
   "source": []
  },
  {
   "cell_type": "code",
   "execution_count": null,
   "id": "a7ab47a0",
   "metadata": {},
   "outputs": [],
   "source": []
  },
  {
   "cell_type": "code",
   "execution_count": null,
   "id": "13852ec1",
   "metadata": {},
   "outputs": [],
   "source": []
  },
  {
   "cell_type": "code",
   "execution_count": null,
   "id": "17f3f171",
   "metadata": {},
   "outputs": [],
   "source": []
  },
  {
   "cell_type": "code",
   "execution_count": null,
   "id": "857061ca",
   "metadata": {},
   "outputs": [],
   "source": []
  },
  {
   "cell_type": "code",
   "execution_count": null,
   "id": "b7519287",
   "metadata": {},
   "outputs": [],
   "source": []
  },
  {
   "cell_type": "code",
   "execution_count": null,
   "id": "4a7289a1",
   "metadata": {},
   "outputs": [],
   "source": []
  },
  {
   "cell_type": "code",
   "execution_count": null,
   "id": "bf81b5d6",
   "metadata": {},
   "outputs": [],
   "source": []
  },
  {
   "cell_type": "code",
   "execution_count": null,
   "id": "e6e2722f",
   "metadata": {},
   "outputs": [],
   "source": []
  },
  {
   "cell_type": "code",
   "execution_count": null,
   "id": "261159a6",
   "metadata": {},
   "outputs": [],
   "source": []
  },
  {
   "cell_type": "code",
   "execution_count": null,
   "id": "c49d7c45",
   "metadata": {},
   "outputs": [],
   "source": []
  },
  {
   "cell_type": "code",
   "execution_count": null,
   "id": "7eb9f125",
   "metadata": {},
   "outputs": [],
   "source": []
  },
  {
   "cell_type": "code",
   "execution_count": null,
   "id": "0af6c875",
   "metadata": {},
   "outputs": [],
   "source": []
  },
  {
   "cell_type": "code",
   "execution_count": null,
   "id": "62110b25",
   "metadata": {},
   "outputs": [],
   "source": []
  },
  {
   "cell_type": "code",
   "execution_count": null,
   "id": "5b73cfe0",
   "metadata": {},
   "outputs": [],
   "source": []
  },
  {
   "cell_type": "code",
   "execution_count": null,
   "id": "1aafe46d",
   "metadata": {},
   "outputs": [],
   "source": []
  },
  {
   "cell_type": "code",
   "execution_count": null,
   "id": "7db41584",
   "metadata": {},
   "outputs": [],
   "source": []
  },
  {
   "cell_type": "code",
   "execution_count": null,
   "id": "5a7a9c58",
   "metadata": {},
   "outputs": [],
   "source": []
  },
  {
   "cell_type": "code",
   "execution_count": null,
   "id": "994203cd",
   "metadata": {},
   "outputs": [],
   "source": []
  },
  {
   "cell_type": "code",
   "execution_count": null,
   "id": "deb578d1",
   "metadata": {},
   "outputs": [],
   "source": []
  },
  {
   "cell_type": "code",
   "execution_count": null,
   "id": "362bd7c7",
   "metadata": {},
   "outputs": [],
   "source": []
  },
  {
   "cell_type": "code",
   "execution_count": null,
   "id": "c0cfd51b",
   "metadata": {},
   "outputs": [],
   "source": []
  },
  {
   "cell_type": "code",
   "execution_count": null,
   "id": "17f0012e",
   "metadata": {},
   "outputs": [],
   "source": []
  },
  {
   "cell_type": "code",
   "execution_count": null,
   "id": "9c5ef7fb",
   "metadata": {},
   "outputs": [],
   "source": []
  },
  {
   "cell_type": "code",
   "execution_count": null,
   "id": "4cda15d0",
   "metadata": {},
   "outputs": [],
   "source": []
  },
  {
   "cell_type": "code",
   "execution_count": null,
   "id": "dbb8332b",
   "metadata": {},
   "outputs": [],
   "source": []
  },
  {
   "cell_type": "code",
   "execution_count": null,
   "id": "4947e8e7",
   "metadata": {},
   "outputs": [],
   "source": []
  },
  {
   "cell_type": "code",
   "execution_count": null,
   "id": "075efae4",
   "metadata": {},
   "outputs": [],
   "source": []
  },
  {
   "cell_type": "code",
   "execution_count": null,
   "id": "e67ccb58",
   "metadata": {},
   "outputs": [],
   "source": []
  },
  {
   "cell_type": "code",
   "execution_count": null,
   "id": "c33411e4",
   "metadata": {},
   "outputs": [],
   "source": []
  }
 ],
 "metadata": {
  "kernelspec": {
   "display_name": "Python 3",
   "language": "python",
   "name": "python3"
  },
  "language_info": {
   "codemirror_mode": {
    "name": "ipython",
    "version": 3
   },
   "file_extension": ".py",
   "mimetype": "text/x-python",
   "name": "python",
   "nbconvert_exporter": "python",
   "pygments_lexer": "ipython3",
   "version": "3.8.8"
  },
  "toc": {
   "base_numbering": 1,
   "nav_menu": {},
   "number_sections": true,
   "sideBar": true,
   "skip_h1_title": false,
   "title_cell": "Table of Contents",
   "title_sidebar": "Contents",
   "toc_cell": false,
   "toc_position": {},
   "toc_section_display": true,
   "toc_window_display": false
  }
 },
 "nbformat": 4,
 "nbformat_minor": 5
}
